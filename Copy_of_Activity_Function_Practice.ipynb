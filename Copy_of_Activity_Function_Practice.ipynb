{
  "nbformat": 4,
  "nbformat_minor": 0,
  "metadata": {
    "kernelspec": {
      "name": "python3",
      "display_name": "Python 3"
    },
    "colab": {
      "name": "Copy of Activity Function Practice",
      "provenance": [],
      "include_colab_link": true
    }
  },
  "cells": [
    {
      "cell_type": "markdown",
      "metadata": {
        "id": "view-in-github",
        "colab_type": "text"
      },
      "source": [
        "<a href=\"https://colab.research.google.com/github/bexporter/Dropbox-Interview-Prep/blob/main/Copy_of_Activity_Function_Practice.ipynb\" target=\"_parent\"><img src=\"https://colab.research.google.com/assets/colab-badge.svg\" alt=\"Open In Colab\"/></a>"
      ]
    },
    {
      "cell_type": "markdown",
      "metadata": {
        "id": "pjTLilNnPCJP"
      },
      "source": [
        "<table border=\"0\" align=\"left\" width=\"700\" height=\"144\">\n",
        "<tbody>\n",
        "<tr>\n",
        "<td width=\"120\"><img width=\"100\" src=\"https://static1.squarespace.com/static/5992c2c7a803bb8283297efe/t/59c803110abd04d34ca9a1f0/1530629279239/\" /></td>\n",
        "<td style=\"width: 600px; height: 67px;\">\n",
        "<h1 style=\"text-align: left;\">Function Practice</h1>\n",
        "<p><a href=\"https://colab.research.google.com/github/KenzieAcademy/python-notebooks/blob/master/Activity_Function_Practice.ipynb\"> <img src=\"https://colab.research.google.com/assets/colab-badge.svg\" alt=\"Open In Colab\" align=\"left\" width=\"188\" height=\"32\" /> </a></p>\n",
        "</td>\n",
        "</tr>\n",
        "</tbody>\n",
        "</table>"
      ]
    },
    {
      "cell_type": "markdown",
      "metadata": {
        "collapsed": true,
        "id": "sw8jAGLFPCJP"
      },
      "source": [
        "Let's see if you can solve these word problems by creating functions. A portion of each function \"signature\" has been set up for you. Fill in each function's parameters by replacing the `???` with one or more arguments so that they are compatible with the function calls that are already provided. Then, fill in the function body to produce the expected result when the functions are called, as indicated by the comments next to the function calls. Some of these will be challenging!"
      ]
    },
    {
      "cell_type": "markdown",
      "metadata": {
        "id": "LtV4qmYtPCJQ"
      },
      "source": [
        "### 1.\n",
        "\n",
        "Create a function that takes in two integers and returns `True` if their sum is 10, or `False` if their sum is something else."
      ]
    },
    {
      "cell_type": "code",
      "metadata": {
        "id": "peUv9JFePCJR"
      },
      "source": [
        "def check_ten(a, b):\n",
        "    if a + b == 10:\n",
        "      return \"True\"\n",
        "    else:\n",
        "      return \"False\"\n",
        "    "
      ],
      "execution_count": null,
      "outputs": []
    },
    {
      "cell_type": "code",
      "metadata": {
        "id": "ELgLpZRGPCJW",
        "colab": {
          "base_uri": "https://localhost:8080/"
        },
        "outputId": "391978cd-2b4c-4157-cecd-a118f5e02f31"
      },
      "source": [
        "# Test your inputs and outputs\n",
        "print(check_ten(10, 0))  # Expected: True\n",
        "print(check_ten(5, 5))  # Expected: True\n",
        "print(check_ten(2, 7))  # Expected: False"
      ],
      "execution_count": null,
      "outputs": [
        {
          "output_type": "stream",
          "text": [
            "True\n",
            "True\n",
            "False\n"
          ],
          "name": "stdout"
        }
      ]
    },
    {
      "cell_type": "markdown",
      "metadata": {
        "id": "frQY6aFoPCJe"
      },
      "source": [
        "### 2.\n",
        "Create a function that takes in two integers and returns `True` if their sum is 10. Otherwise, return the actual sum."
      ]
    },
    {
      "cell_type": "code",
      "metadata": {
        "id": "Qa_oT1ncPCJe"
      },
      "source": [
        "def check_ten_sum(a, b):\n",
        "    if a + b == 10:\n",
        "      return 10\n",
        "    else:\n",
        "      return a+b\n"
      ],
      "execution_count": null,
      "outputs": []
    },
    {
      "cell_type": "code",
      "metadata": {
        "id": "W1R_skbAPCJh",
        "colab": {
          "base_uri": "https://localhost:8080/"
        },
        "outputId": "d354b05b-c26d-4359-b5a7-73fe02acef0d"
      },
      "source": [
        "# Test your inputs and outputs\n",
        "print(check_ten_sum(10, 0))  # Expected: True\n",
        "print(check_ten_sum(2, 7))  # Expected: 9"
      ],
      "execution_count": null,
      "outputs": [
        {
          "output_type": "stream",
          "text": [
            "10\n",
            "9\n"
          ],
          "name": "stdout"
        }
      ]
    },
    {
      "cell_type": "markdown",
      "metadata": {
        "id": "2MzL-Dd4PCJo"
      },
      "source": [
        "### 3.\n",
        "\n",
        "Create a function that takes in a string and returns its first character in upper case."
      ]
    },
    {
      "cell_type": "code",
      "metadata": {
        "id": "VupT_beGPCJp"
      },
      "source": [
        "def first_upper(s):\n",
        "    return s[0].upper()"
      ],
      "execution_count": null,
      "outputs": []
    },
    {
      "cell_type": "code",
      "metadata": {
        "id": "2FeXhE8EPCJr",
        "colab": {
          "base_uri": "https://localhost:8080/"
        },
        "outputId": "0e74b3f8-681f-4522-a1e4-397c92b45a5d"
      },
      "source": [
        "# Test your inputs and outputs\n",
        "print(first_upper(s='hello'))  # Expected: 'H'\n",
        "print(first_upper(s='person of interest'))  # Expected: 'P'"
      ],
      "execution_count": null,
      "outputs": [
        {
          "output_type": "stream",
          "text": [
            "H\n",
            "P\n"
          ],
          "name": "stdout"
        }
      ]
    },
    {
      "cell_type": "markdown",
      "metadata": {
        "id": "PCsKrO6YPCJy"
      },
      "source": [
        "### 4.\n",
        "Create a function that takes in a string and returns its last two characters. If there are fewer than two chracters, return the string \"Error\"."
      ]
    },
    {
      "cell_type": "code",
      "metadata": {
        "id": "hHbJydWyPCJy"
      },
      "source": [
        "def last_chars(n, s):\n",
        "    \"\"\"Returns the last n characters of the given string.\"\"\"\n",
        "    if len(s) < 2:\n",
        "      return \"error\"\n",
        "    else:\n",
        "      return s[-2:]\n",
        "          "
      ],
      "execution_count": null,
      "outputs": []
    },
    {
      "cell_type": "code",
      "metadata": {
        "id": "vscHWkGFPCJ4",
        "colab": {
          "base_uri": "https://localhost:8080/"
        },
        "outputId": "e6c20b60-bfb5-46c7-ee31-0854f30f1f5f"
      },
      "source": [
        "# Test your inputs and outputs\n",
        "print(last_chars(2, s='hello'))  # Expected: 'lo'\n",
        "print(last_chars(2, s='hi'))  # Expected: 'hi'\n",
        "print(last_chars(2, s='a'))  # Expected: 'Error'"
      ],
      "execution_count": null,
      "outputs": [
        {
          "output_type": "stream",
          "text": [
            "lo\n",
            "hi\n",
            "error\n"
          ],
          "name": "stdout"
        }
      ]
    },
    {
      "cell_type": "markdown",
      "metadata": {
        "id": "NiaaYThsPCJ_"
      },
      "source": [
        "### 5.\n",
        "Given a list of integers, return True if the sequence `[1, 2, 3]` is somewhere in the list. Hint: Use slicing and a `for` loop."
      ]
    },
    {
      "cell_type": "markdown",
      "metadata": {
        "id": "AHdJQFL01bYf"
      },
      "source": [
        "\r\n",
        "\r\n",
        "```\r\n",
        "# This is formatted as code\r\n",
        "```\r\n",
        "\r\n"
      ]
    },
    {
      "cell_type": "code",
      "metadata": {
        "id": "u9p7FiVlPCJ_"
      },
      "source": [
        "def seq_check(x):\n",
        "  for i,v in enumerate(x): \n",
        "    if x[i:(i+3)] == [1,2,3,]:\n",
        "      return True\n",
        "  return False\n",
        "        "
      ],
      "execution_count": null,
      "outputs": []
    },
    {
      "cell_type": "code",
      "metadata": {
        "id": "6JxVs7FaPCKD",
        "colab": {
          "base_uri": "https://localhost:8080/"
        },
        "outputId": "5e2c919c-2b47-4fd2-97a7-e3fda0079881"
      },
      "source": [
        "# Test your inputs and outputs\n",
        "print(seq_check([1, 2, 3]))  # Expected: True\n",
        "print(seq_check([7, 7, 7, 1, 2, 3, 7, 7, 7]))  # Expected: True\n",
        "print(seq_check([3, 2, 1, 3, 2, 1, 1, 1, 2, 2, 3, 3, 3]))  # Expected: False"
      ],
      "execution_count": null,
      "outputs": [
        {
          "output_type": "stream",
          "text": [
            "True\n",
            "True\n",
            "False\n"
          ],
          "name": "stdout"
        }
      ]
    },
    {
      "cell_type": "markdown",
      "metadata": {
        "collapsed": true,
        "id": "bN4irGcWPCKJ"
      },
      "source": [
        "### 6.\n",
        "Given two strings, create a function that returns the difference in length between them. This difference in length should always be a positive number (or just 0). Hint: Absolute value."
      ]
    },
    {
      "cell_type": "code",
      "metadata": {
        "id": "0wmZyQpYPCKJ"
      },
      "source": [
        "def compare_len(s1,s2):\n",
        "  no_a = len(s1)\n",
        "  no_b = len(s2)\n",
        "  return abs(no_a - no_b)\n",
        " "
      ],
      "execution_count": null,
      "outputs": []
    },
    {
      "cell_type": "code",
      "metadata": {
        "id": "UbuL_Zx5PCKO",
        "colab": {
          "base_uri": "https://localhost:8080/"
        },
        "outputId": "ced35216-1f2b-4803-ce00-722a529b2802"
      },
      "source": [
        "# Test your inputs and outputs\n",
        "print(compare_len(s1='aa', s2='aa'))  # Expected: 0\n",
        "print(compare_len(s1='a', s2='bb'))  # Expected: 1\n",
        "print(compare_len(**{'s1': 'bb', 's2': 'a'}))  # Expected: 1"
      ],
      "execution_count": null,
      "outputs": [
        {
          "output_type": "stream",
          "text": [
            "0\n",
            "1\n",
            "1\n"
          ],
          "name": "stdout"
        }
      ]
    },
    {
      "cell_type": "markdown",
      "metadata": {
        "id": "dEQne8EpPCKU"
      },
      "source": [
        "### 7.\n",
        "Given a list of integers, return the sum of the list's values if its length is an even number. If the length of the list is odd, return the max value in that list."
      ]
    },
    {
      "cell_type": "code",
      "metadata": {
        "id": "WxWuWyE4PCKU"
      },
      "source": [
        "def sum_or_max(a):\n",
        "    return sum(a) if len(a) % 2 == 0 else max(a)"
      ],
      "execution_count": null,
      "outputs": []
    },
    {
      "cell_type": "code",
      "metadata": {
        "id": "_SiSAFVCPCKY",
        "colab": {
          "base_uri": "https://localhost:8080/"
        },
        "outputId": "3f8d2c99-9367-4d62-ff98-adbdce2898db"
      },
      "source": [
        "# Test your inputs and outputs\n",
        "print(sum_or_max([1, 2, 3]))  # Expected: 3\n",
        "print(sum_or_max([0, 1, 2, 3]))  # Expected: 6"
      ],
      "execution_count": null,
      "outputs": [
        {
          "output_type": "stream",
          "text": [
            "3\n",
            "6\n"
          ],
          "name": "stdout"
        }
      ]
    },
    {
      "cell_type": "markdown",
      "metadata": {
        "id": "UFpEbP6ePCKd"
      },
      "source": [
        "### 8.\n",
        "Create a function that takes in a string name (e.g. \"James\", \"Cindy\") and replaces all vowels with the letter x. Then, switch the position of the first and last letters. For our purposes, consider these letters as vowels: [a, e, i, o, u]).\n",
        "\n",
        "**This task is challenging, break it down into multiple pieces. **"
      ]
    },
    {
      "cell_type": "code",
      "metadata": {
        "id": "nEKvRHesPCKd"
      },
      "source": [
        "def replace_and_switch(name):\n",
        "    vowel = [\"a\",\"e\",\"i\",\"o\",\"u\"]\n",
        "    new_name = \"\"\n",
        "    for char in name:\n",
        "      if char.lower() in vowel:\n",
        "        new_name += \"x\"\n",
        "      else:\n",
        "        new_name += char\n",
        "    first_letter = new_name[0]\n",
        "    last_letter = new_name[-1]\n",
        "    mid_letter = new_name[1:-1]\n",
        "    return last_letter + mid_letter + first_letter        "
      ],
      "execution_count": null,
      "outputs": []
    },
    {
      "cell_type": "code",
      "metadata": {
        "id": "3QQnkX7dPCKh",
        "colab": {
          "base_uri": "https://localhost:8080/"
        },
        "outputId": "632c5430-78bf-4bbb-cf80-0aa211aa73ca"
      },
      "source": [
        "# Test your inputs and outputs\n",
        "print(replace_and_switch(name='James'))  # Expected: 'sxmxJ'\n",
        "print(replace_and_switch(name='Cindy'))  # Expected: 'yxndC'\n",
        "print(replace_and_switch(name=\"Alfred\"))  # Expected: 'dlfrxx'"
      ],
      "execution_count": null,
      "outputs": [
        {
          "output_type": "stream",
          "text": [
            "sxmxJ\n",
            "yxndC\n",
            "dlfrxx\n"
          ],
          "name": "stdout"
        }
      ]
    },
    {
      "cell_type": "markdown",
      "metadata": {
        "id": "ZuNxRardPCKo"
      },
      "source": [
        "## Great Job! \n",
        "Later on you will combine multiple functions to create large working pieces of code that accomplish complex tasks!"
      ]
    }
  ]
}