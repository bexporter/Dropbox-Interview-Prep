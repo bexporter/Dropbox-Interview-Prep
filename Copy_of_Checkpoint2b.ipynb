{
  "nbformat": 4,
  "nbformat_minor": 0,
  "metadata": {
    "colab": {
      "name": "Copy of Checkpoint2b.ipynb",
      "provenance": [],
      "collapsed_sections": [],
      "include_colab_link": true
    },
    "kernelspec": {
      "name": "python3",
      "display_name": "Python 3"
    }
  },
  "cells": [
    {
      "cell_type": "markdown",
      "metadata": {
        "id": "view-in-github",
        "colab_type": "text"
      },
      "source": [
        "<a href=\"https://colab.research.google.com/github/bexporter/Dropbox-Interview-Prep/blob/main/Copy_of_Checkpoint2b.ipynb\" target=\"_parent\"><img src=\"https://colab.research.google.com/assets/colab-badge.svg\" alt=\"Open In Colab\"/></a>"
      ]
    },
    {
      "cell_type": "markdown",
      "metadata": {
        "id": "wZu0CJ054mZk"
      },
      "source": [
        "<table align=left width=\"590\" height=\"144\" style=\"height: 67px; width: 565px;\">\n",
        "<tbody>\n",
        "<tr>\n",
        "<td style=\"width: 422px; height: 67px;\">\n",
        "<h1 style=\"text-align: left;\">Python Foundations</h1>\n",
        "<h2 style=\"text-align: left;\">Checkpoint 2B</h2>\n",
        "</td>\n",
        "</tr>\n",
        "</tbody>\n",
        "</table>"
      ]
    },
    {
      "cell_type": "code",
      "metadata": {
        "id": "5LeUhxORcYZ5",
        "colab": {
          "base_uri": "https://localhost:8080/"
        },
        "outputId": "a367783a-2195-4b56-c04e-a5491b04a2af"
      },
      "source": [
        "from datetime import datetime as dt\n",
        "\n",
        "# Fill in the __author__ string with your name and run this cell.\n",
        "__author__ = \"Adesuwa Becky Porter\"\n",
        "start_time = dt.utcnow()\n",
        "print(f\"Author: {__author__}\")\n",
        "print(f\"Start Time: {start_time} UTC\")"
      ],
      "execution_count": null,
      "outputs": [
        {
          "output_type": "stream",
          "text": [
            "Author: Adesuwa Becky Porter\n",
            "Start Time: 2021-03-12 17:04:28.216270 UTC\n"
          ],
          "name": "stdout"
        }
      ]
    },
    {
      "cell_type": "markdown",
      "metadata": {
        "id": "_XhHywcxIHkC"
      },
      "source": [
        "# Dictionaries"
      ]
    },
    {
      "cell_type": "markdown",
      "metadata": {
        "id": "EnAMvbT9HGz4"
      },
      "source": [
        "## 1."
      ]
    },
    {
      "cell_type": "code",
      "metadata": {
        "id": "7LPp2lbSEso_",
        "colab": {
          "base_uri": "https://localhost:8080/",
          "height": 35
        },
        "outputId": "a6392464-95b7-46f3-a796-21800f2e25fb"
      },
      "source": [
        "# Create a `person` dictionary with the following key/value pairs:\n",
        "#   name: Bob\n",
        "#    age: 50\n",
        "#   wife: Martha\n",
        "\n",
        "person = dict(name=\"Bob\", age=50, wife=\"Martha\")\n",
        "\n",
        "# do not modify this code\n",
        "ok_name = \"name\" in person and person.get(\"name\") == \"Bob\"\n",
        "ok_age = \"age\" in person and person.get(\"age\") == 50\n",
        "ok_wife = \"wife\" in person and person.get(\"wife\") == \"Martha\"\n",
        "'OK' if ok_name and ok_age and ok_wife else 'Test Failed: invalid key or value detected'"
      ],
      "execution_count": null,
      "outputs": [
        {
          "output_type": "execute_result",
          "data": {
            "application/vnd.google.colaboratory.intrinsic+json": {
              "type": "string"
            },
            "text/plain": [
              "'OK'"
            ]
          },
          "metadata": {
            "tags": []
          },
          "execution_count": 14
        }
      ]
    },
    {
      "cell_type": "markdown",
      "metadata": {
        "id": "b5rRWStkHG4o"
      },
      "source": [
        "## 2."
      ]
    },
    {
      "cell_type": "code",
      "metadata": {
        "id": "vZJd1wf9HT_y",
        "colab": {
          "base_uri": "https://localhost:8080/"
        },
        "outputId": "bdd0ae09-2d54-4746-8219-5cc4ae0514cf"
      },
      "source": [
        "# Using the `person` dictionary that you created, print each of its key/value\n",
        "# pairs on their own line.\n",
        "# See the \"Example Output\" below for an idea of how to format each key/value\n",
        "# pair.\n",
        "\n",
        "print(person, end=\"\")\n"
      ],
      "execution_count": null,
      "outputs": [
        {
          "output_type": "stream",
          "text": [
            "{'name': 'Bob', 'age': 50, 'wife': 'Martha'}"
          ],
          "name": "stdout"
        }
      ]
    },
    {
      "cell_type": "markdown",
      "metadata": {
        "id": "sJJcwYWCUjuK"
      },
      "source": [
        "### Example Output:\n",
        "```\n",
        "name: Bob\n",
        "age: 50\n",
        "wife: Martha\n",
        "```"
      ]
    },
    {
      "cell_type": "markdown",
      "metadata": {
        "id": "I4Rc8kO4HG9m"
      },
      "source": [
        "## 3."
      ]
    },
    {
      "cell_type": "code",
      "metadata": {
        "id": "GDSk1dGlHSHf",
        "colab": {
          "base_uri": "https://localhost:8080/",
          "height": 52
        },
        "outputId": "c54b2a8a-30f6-486f-ba2f-78cc0d451ba0"
      },
      "source": [
        "# Using the `person` dictionary, add 1 to the value of the `age` key.\n",
        "\n",
        "print(person['age'] + 1)\n",
        "# do not modify this code\n",
        "expected = {\"name\": \"Bob\", \"age\": 51, \"wife\": \"Martha\"}\n",
        "'OK' if person == expected else f'Test Failed: {person} != {expected}'"
      ],
      "execution_count": null,
      "outputs": [
        {
          "output_type": "stream",
          "text": [
            "52\n"
          ],
          "name": "stdout"
        },
        {
          "output_type": "execute_result",
          "data": {
            "application/vnd.google.colaboratory.intrinsic+json": {
              "type": "string"
            },
            "text/plain": [
              "'OK'"
            ]
          },
          "metadata": {
            "tags": []
          },
          "execution_count": 23
        }
      ]
    },
    {
      "cell_type": "markdown",
      "metadata": {
        "id": "24byrJ62BAsG"
      },
      "source": [
        "## 4."
      ]
    },
    {
      "cell_type": "code",
      "metadata": {
        "id": "tDwKo71vHStH",
        "colab": {
          "base_uri": "https://localhost:8080/",
          "height": 35
        },
        "outputId": "3d497857-6762-4dab-ac69-4d7c7aa51bcc"
      },
      "source": [
        "# Print \"no kids\" if the \"children\" key is not found in the `person` dictionary.\n",
        "# Make sure the printed output matches the \"Expected Output\" below this cell.\n",
        "\n",
        "person.get('children', \"no kids\")\n",
        "\n"
      ],
      "execution_count": null,
      "outputs": [
        {
          "output_type": "execute_result",
          "data": {
            "application/vnd.google.colaboratory.intrinsic+json": {
              "type": "string"
            },
            "text/plain": [
              "'no kids'"
            ]
          },
          "metadata": {
            "tags": []
          },
          "execution_count": 42
        }
      ]
    },
    {
      "cell_type": "markdown",
      "metadata": {
        "id": "imWHWN30Ulwg"
      },
      "source": [
        "### Expected Output:\n",
        "```\n",
        "no kids\n",
        "```"
      ]
    },
    {
      "cell_type": "markdown",
      "metadata": {
        "id": "xs5vXMr_HHCC"
      },
      "source": [
        "## 5."
      ]
    },
    {
      "cell_type": "code",
      "metadata": {
        "id": "6w0HFcd4HTM-"
      },
      "source": [
        "# Bob and Martha just had twins!\n",
        "# Add a \"children\" key to the `person` dictionary with the children's\n",
        "# names as the key's value. Give the children any names you'd like!\n",
        "\n",
        "# your code here\n",
        "\n",
        "# do not modify this code\n",
        "'OK' if person.get(\"children\") else 'Test Failed: No \"children\" key detected'"
      ],
      "execution_count": null,
      "outputs": []
    },
    {
      "cell_type": "markdown",
      "metadata": {
        "id": "U5Bvyot4B5As"
      },
      "source": [
        "## 6."
      ]
    },
    {
      "cell_type": "code",
      "metadata": {
        "id": "cWim3Ds6BBQl"
      },
      "source": [
        "# Now, remove the \"children\" key from the `person` dictionary.\n",
        "\n",
        "# your code here\n",
        "\n",
        "# do not modify this code\n",
        "'OK' if \"children\" not in person else 'Test Failed: \"children\" key detected'"
      ],
      "execution_count": null,
      "outputs": []
    },
    {
      "cell_type": "markdown",
      "metadata": {
        "id": "MeO08mBOB6V1"
      },
      "source": [
        "## 7."
      ]
    },
    {
      "cell_type": "code",
      "metadata": {
        "id": "66anf9FQB_3-",
        "colab": {
          "base_uri": "https://localhost:8080/",
          "height": 35
        },
        "outputId": "d415da87-fcc0-4280-8f42-302c52a7ec1d"
      },
      "source": [
        "# Write the string \"2B or not 2B\" to a file named \"output.txt\" in the\n",
        "# current directory.\n",
        "\n",
        "with open(\"output.txt\", \"w\") as f:\n",
        "  f.write(\"2B or not 2B\")\n",
        "\n",
        "# do not modify this code\n",
        "import os\n",
        "'OK' if os.path.exists('output.txt') else \"Test Failed: file `output.txt` does not exist\""
      ],
      "execution_count": null,
      "outputs": [
        {
          "output_type": "execute_result",
          "data": {
            "application/vnd.google.colaboratory.intrinsic+json": {
              "type": "string"
            },
            "text/plain": [
              "'OK'"
            ]
          },
          "metadata": {
            "tags": []
          },
          "execution_count": 3
        }
      ]
    },
    {
      "cell_type": "markdown",
      "metadata": {
        "id": "Awl5HYYxB7yx"
      },
      "source": [
        "## 8."
      ]
    },
    {
      "cell_type": "code",
      "metadata": {
        "id": "b4aRlZ9ZCAU8",
        "colab": {
          "base_uri": "https://localhost:8080/",
          "height": 35
        },
        "outputId": "33cb92c5-6f18-4e5a-90c8-2afefb99227d"
      },
      "source": [
        "# Open the `output.txt` file and read its contents into a variable\n",
        "# named `contents`.\n",
        "\n",
        "with open(\"output.txt\", \"r\") as f:\n",
        "  contents = f.read()\n",
        "\n",
        "# do not modify this code\n",
        "expected = \"2B or not 2B\"\n",
        "'OK' if contents == expected else f'Test Failed: {contents} != {expected}'"
      ],
      "execution_count": null,
      "outputs": [
        {
          "output_type": "execute_result",
          "data": {
            "application/vnd.google.colaboratory.intrinsic+json": {
              "type": "string"
            },
            "text/plain": [
              "'OK'"
            ]
          },
          "metadata": {
            "tags": []
          },
          "execution_count": 8
        }
      ]
    },
    {
      "cell_type": "markdown",
      "metadata": {
        "id": "y6o_ObK7B83Y"
      },
      "source": [
        "## 9."
      ]
    },
    {
      "cell_type": "code",
      "metadata": {
        "id": "qZwbL9J2CA3O",
        "colab": {
          "base_uri": "https://localhost:8080/"
        },
        "outputId": "fc21bad4-7c4b-44ee-f3a2-d2e2db799eec"
      },
      "source": [
        "# Open and read the `output.txt` file and write its contents to a new file\n",
        "# named `output2.txt`.\n",
        "\n",
        "with open('output.txt', 'r') as f:\n",
        "  with open ('output2.txt', 'w') as f2:\n",
        "    f2.write(f.read())\n",
        "\n",
        "\n",
        "# do not modify this code\n",
        "import os\n",
        "expected = \"2B or not 2B\"\n",
        "ok_exists = os.path.exists('output2.txt')\n",
        "if ok_exists:\n",
        "  with open('output2.txt') as f:\n",
        "    _ = f.read()\n",
        "  if _ != expected:\n",
        "    print(f\"Test failed: `output2.txt` contents != {expected}\")\n",
        "  else:\n",
        "    print(\"OK\")\n",
        "else:\n",
        "  print(\"Test failed: file `output2.txt` does not exist\")"
      ],
      "execution_count": null,
      "outputs": [
        {
          "output_type": "stream",
          "text": [
            "OK\n"
          ],
          "name": "stdout"
        }
      ]
    },
    {
      "cell_type": "markdown",
      "metadata": {
        "id": "C3MxnK4BWOjp"
      },
      "source": [
        "# Please run the final cell below to conclude."
      ]
    },
    {
      "cell_type": "code",
      "metadata": {
        "id": "zuSg-c4WWVuZ",
        "colab": {
          "base_uri": "https://localhost:8080/"
        },
        "outputId": "d625b3cd-a289-44e7-dde1-82ddcb577631"
      },
      "source": [
        "# Wrapping up\n",
        "end_time = dt.utcnow()\n",
        "print(f\"End Time: {end_time} UTC\")\n",
        "print(f\"Duration: {end_time - start_time}\")"
      ],
      "execution_count": null,
      "outputs": [
        {
          "output_type": "stream",
          "text": [
            "End Time: 2021-03-12 17:04:38.037183 UTC\n",
            "Duration: 0:00:09.820913\n"
          ],
          "name": "stdout"
        }
      ]
    },
    {
      "cell_type": "markdown",
      "metadata": {
        "id": "ebGc7MyNXloO"
      },
      "source": [
        "# The End\n",
        "Now, use the **File** menu above and select **Download .ipynb**. Save the file to your computer and submit it for the **Checkpoint 2B** assessment."
      ]
    }
  ]
}